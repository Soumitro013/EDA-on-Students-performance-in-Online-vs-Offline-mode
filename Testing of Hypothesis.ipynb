{
 "cells": [
  {
   "cell_type": "code",
   "execution_count": 60,
   "id": "2da62f42",
   "metadata": {},
   "outputs": [
    {
     "data": {
      "text/html": [
       "<div>\n",
       "<style scoped>\n",
       "    .dataframe tbody tr th:only-of-type {\n",
       "        vertical-align: middle;\n",
       "    }\n",
       "\n",
       "    .dataframe tbody tr th {\n",
       "        vertical-align: top;\n",
       "    }\n",
       "\n",
       "    .dataframe thead th {\n",
       "        text-align: right;\n",
       "    }\n",
       "</style>\n",
       "<table border=\"1\" class=\"dataframe\">\n",
       "  <thead>\n",
       "    <tr style=\"text-align: right;\">\n",
       "      <th></th>\n",
       "      <th>Name</th>\n",
       "      <th>CGPA</th>\n",
       "    </tr>\n",
       "  </thead>\n",
       "  <tbody>\n",
       "    <tr>\n",
       "      <th>0</th>\n",
       "      <td>Aafreen Arjuman</td>\n",
       "      <td>7.300</td>\n",
       "    </tr>\n",
       "    <tr>\n",
       "      <th>1</th>\n",
       "      <td>Abhik De</td>\n",
       "      <td>6.670</td>\n",
       "    </tr>\n",
       "    <tr>\n",
       "      <th>2</th>\n",
       "      <td>Adrija Karmakar</td>\n",
       "      <td>7.500</td>\n",
       "    </tr>\n",
       "    <tr>\n",
       "      <th>3</th>\n",
       "      <td>Akash Singh</td>\n",
       "      <td>7.034</td>\n",
       "    </tr>\n",
       "    <tr>\n",
       "      <th>4</th>\n",
       "      <td>Amrita Chatterjee</td>\n",
       "      <td>7.271</td>\n",
       "    </tr>\n",
       "    <tr>\n",
       "      <th>5</th>\n",
       "      <td>Animesh Mandal</td>\n",
       "      <td>7.610</td>\n",
       "    </tr>\n",
       "    <tr>\n",
       "      <th>6</th>\n",
       "      <td>Anubhab Maity</td>\n",
       "      <td>7.180</td>\n",
       "    </tr>\n",
       "    <tr>\n",
       "      <th>7</th>\n",
       "      <td>Anuza Paul</td>\n",
       "      <td>7.500</td>\n",
       "    </tr>\n",
       "    <tr>\n",
       "      <th>8</th>\n",
       "      <td>Arpan Mitra</td>\n",
       "      <td>8.500</td>\n",
       "    </tr>\n",
       "    <tr>\n",
       "      <th>9</th>\n",
       "      <td>Asima Rai Chawdhury</td>\n",
       "      <td>7.670</td>\n",
       "    </tr>\n",
       "    <tr>\n",
       "      <th>10</th>\n",
       "      <td>Bishal Chakraborty</td>\n",
       "      <td>7.520</td>\n",
       "    </tr>\n",
       "    <tr>\n",
       "      <th>11</th>\n",
       "      <td>Brinta Debnath</td>\n",
       "      <td>7.000</td>\n",
       "    </tr>\n",
       "    <tr>\n",
       "      <th>12</th>\n",
       "      <td>Debdipta Khanra</td>\n",
       "      <td>7.760</td>\n",
       "    </tr>\n",
       "    <tr>\n",
       "      <th>13</th>\n",
       "      <td>Hrittik Banerjee</td>\n",
       "      <td>7.690</td>\n",
       "    </tr>\n",
       "    <tr>\n",
       "      <th>14</th>\n",
       "      <td>Isha Panda</td>\n",
       "      <td>7.900</td>\n",
       "    </tr>\n",
       "    <tr>\n",
       "      <th>15</th>\n",
       "      <td>Mrittika Banerjee</td>\n",
       "      <td>7.001</td>\n",
       "    </tr>\n",
       "    <tr>\n",
       "      <th>16</th>\n",
       "      <td>Protyush Jana</td>\n",
       "      <td>7.400</td>\n",
       "    </tr>\n",
       "    <tr>\n",
       "      <th>17</th>\n",
       "      <td>Sagar Banik</td>\n",
       "      <td>7.450</td>\n",
       "    </tr>\n",
       "    <tr>\n",
       "      <th>18</th>\n",
       "      <td>Saheli Ghosh</td>\n",
       "      <td>8.076</td>\n",
       "    </tr>\n",
       "    <tr>\n",
       "      <th>19</th>\n",
       "      <td>Satarupa Chanda</td>\n",
       "      <td>8.120</td>\n",
       "    </tr>\n",
       "    <tr>\n",
       "      <th>20</th>\n",
       "      <td>Sayantan Bandopadhyay</td>\n",
       "      <td>7.100</td>\n",
       "    </tr>\n",
       "    <tr>\n",
       "      <th>21</th>\n",
       "      <td>Shreya Bhuiya</td>\n",
       "      <td>7.100</td>\n",
       "    </tr>\n",
       "    <tr>\n",
       "      <th>22</th>\n",
       "      <td>Shubhankar Debnath</td>\n",
       "      <td>7.400</td>\n",
       "    </tr>\n",
       "    <tr>\n",
       "      <th>23</th>\n",
       "      <td>Soumen Khatua</td>\n",
       "      <td>6.760</td>\n",
       "    </tr>\n",
       "    <tr>\n",
       "      <th>24</th>\n",
       "      <td>Soumitro Mukherjee</td>\n",
       "      <td>7.434</td>\n",
       "    </tr>\n",
       "    <tr>\n",
       "      <th>25</th>\n",
       "      <td>Sounak Ghosh</td>\n",
       "      <td>8.172</td>\n",
       "    </tr>\n",
       "    <tr>\n",
       "      <th>26</th>\n",
       "      <td>Sreeja Sarkar</td>\n",
       "      <td>7.990</td>\n",
       "    </tr>\n",
       "    <tr>\n",
       "      <th>27</th>\n",
       "      <td>Subham Kumar Saha</td>\n",
       "      <td>5.300</td>\n",
       "    </tr>\n",
       "    <tr>\n",
       "      <th>28</th>\n",
       "      <td>Subhani Akuly</td>\n",
       "      <td>7.470</td>\n",
       "    </tr>\n",
       "    <tr>\n",
       "      <th>29</th>\n",
       "      <td>Tanmoy Saha</td>\n",
       "      <td>6.900</td>\n",
       "    </tr>\n",
       "  </tbody>\n",
       "</table>\n",
       "</div>"
      ],
      "text/plain": [
       "                     Name   CGPA\n",
       "0         Aafreen Arjuman  7.300\n",
       "1                Abhik De  6.670\n",
       "2         Adrija Karmakar  7.500\n",
       "3             Akash Singh  7.034\n",
       "4       Amrita Chatterjee  7.271\n",
       "5          Animesh Mandal  7.610\n",
       "6           Anubhab Maity  7.180\n",
       "7              Anuza Paul  7.500\n",
       "8             Arpan Mitra  8.500\n",
       "9     Asima Rai Chawdhury  7.670\n",
       "10     Bishal Chakraborty  7.520\n",
       "11         Brinta Debnath  7.000\n",
       "12        Debdipta Khanra  7.760\n",
       "13       Hrittik Banerjee  7.690\n",
       "14             Isha Panda  7.900\n",
       "15      Mrittika Banerjee  7.001\n",
       "16          Protyush Jana  7.400\n",
       "17            Sagar Banik  7.450\n",
       "18           Saheli Ghosh  8.076\n",
       "19        Satarupa Chanda  8.120\n",
       "20  Sayantan Bandopadhyay  7.100\n",
       "21          Shreya Bhuiya  7.100\n",
       "22     Shubhankar Debnath  7.400\n",
       "23          Soumen Khatua  6.760\n",
       "24     Soumitro Mukherjee  7.434\n",
       "25           Sounak Ghosh  8.172\n",
       "26          Sreeja Sarkar  7.990\n",
       "27      Subham Kumar Saha  5.300\n",
       "28          Subhani Akuly  7.470\n",
       "29            Tanmoy Saha  6.900"
      ]
     },
     "execution_count": 60,
     "metadata": {},
     "output_type": "execute_result"
    }
   ],
   "source": [
    "import pandas as pd\n",
    "asa = pd.read_csv(\"ASA- SEM-1 CGPA.csv\")\n",
    "asa"
   ]
  },
  {
   "cell_type": "code",
   "execution_count": 63,
   "id": "6acffffa",
   "metadata": {},
   "outputs": [
    {
     "data": {
      "text/plain": [
       "0     7.300\n",
       "1     6.670\n",
       "2     7.500\n",
       "3     7.034\n",
       "4     7.271\n",
       "5     7.610\n",
       "6     7.180\n",
       "7     7.500\n",
       "8     8.500\n",
       "9     7.670\n",
       "10    7.520\n",
       "11    7.000\n",
       "12    7.760\n",
       "13    7.690\n",
       "14    7.900\n",
       "15    7.001\n",
       "16    7.400\n",
       "17    7.450\n",
       "18    8.076\n",
       "19    8.120\n",
       "20    7.100\n",
       "21    7.100\n",
       "22    7.400\n",
       "23    6.760\n",
       "24    7.434\n",
       "25    8.172\n",
       "26    7.990\n",
       "27    5.300\n",
       "28    7.470\n",
       "29    6.900\n",
       "Name: CGPA, dtype: float64"
      ]
     },
     "execution_count": 63,
     "metadata": {},
     "output_type": "execute_result"
    }
   ],
   "source": [
    "cgpa = asa.CGPA\n",
    "cgpa"
   ]
  },
  {
   "cell_type": "markdown",
   "id": "9136fda4",
   "metadata": {},
   "source": [
    "## Normality Asumption"
   ]
  },
  {
   "cell_type": "code",
   "execution_count": 91,
   "id": "d247bdc1",
   "metadata": {},
   "outputs": [
    {
     "data": {
      "text/plain": [
       "Power_divergenceResult(statistic=1.3611139788437085, pvalue=0.999999999999994)"
      ]
     },
     "execution_count": 91,
     "metadata": {},
     "output_type": "execute_result"
    }
   ],
   "source": [
    "import scipy.stats as scist\n",
    "scist.chisquare(cgpa)"
   ]
  },
  {
   "cell_type": "markdown",
   "id": "e1d2331d",
   "metadata": {},
   "source": [
    "## Student's t-test"
   ]
  },
  {
   "cell_type": "code",
   "execution_count": 87,
   "id": "0038967b",
   "metadata": {},
   "outputs": [
    {
     "data": {
      "text/plain": [
       "Ttest_1sampResult(statistic=-0.9986609230644281, pvalue=0.8368902823682709)"
      ]
     },
     "execution_count": 87,
     "metadata": {},
     "output_type": "execute_result"
    }
   ],
   "source": [
    "scist.ttest_1samp(cgpa,7.5,alternative='greater')"
   ]
  },
  {
   "cell_type": "markdown",
   "id": "50eaa7e1",
   "metadata": {},
   "source": [
    "## Wilcoxon Sign Rank test"
   ]
  },
  {
   "cell_type": "code",
   "execution_count": 88,
   "id": "b5ebf653",
   "metadata": {},
   "outputs": [
    {
     "data": {
      "text/plain": [
       "WilcoxonResult(statistic=165.0, pvalue=0.8066052670100348)"
      ]
     },
     "execution_count": 88,
     "metadata": {},
     "output_type": "execute_result"
    }
   ],
   "source": [
    "cgpa_rank = cgpa-7.5\n",
    "scist.wilcoxon(cgpa_rank, y=None, alternative='greater')"
   ]
  },
  {
   "cell_type": "markdown",
   "id": "f54c3786",
   "metadata": {},
   "source": [
    "## Two Sample Location Tests"
   ]
  },
  {
   "cell_type": "code",
   "execution_count": 89,
   "id": "331d335f",
   "metadata": {},
   "outputs": [],
   "source": [
    "boys = cgpa[0:15]\n",
    "girls = cgpa[15:30]"
   ]
  },
  {
   "cell_type": "code",
   "execution_count": 109,
   "id": "b29e211a",
   "metadata": {},
   "outputs": [
    {
     "data": {
      "text/plain": [
       "0     7.300\n",
       "1     6.670\n",
       "2     7.500\n",
       "3     7.034\n",
       "4     7.271\n",
       "5     7.610\n",
       "6     7.180\n",
       "7     7.500\n",
       "8     8.500\n",
       "9     7.670\n",
       "10    7.520\n",
       "11    7.000\n",
       "12    7.760\n",
       "13    7.690\n",
       "14    7.900\n",
       "Name: CGPA, dtype: float64"
      ]
     },
     "execution_count": 109,
     "metadata": {},
     "output_type": "execute_result"
    }
   ],
   "source": [
    "boys"
   ]
  },
  {
   "cell_type": "code",
   "execution_count": 110,
   "id": "35c84c61",
   "metadata": {},
   "outputs": [
    {
     "data": {
      "text/plain": [
       "15    7.001\n",
       "16    7.400\n",
       "17    7.450\n",
       "18    8.076\n",
       "19    8.120\n",
       "20    7.100\n",
       "21    7.100\n",
       "22    7.400\n",
       "23    6.760\n",
       "24    7.434\n",
       "25    8.172\n",
       "26    7.990\n",
       "27    5.300\n",
       "28    7.470\n",
       "29    6.900\n",
       "Name: CGPA, dtype: float64"
      ]
     },
     "execution_count": 110,
     "metadata": {},
     "output_type": "execute_result"
    }
   ],
   "source": [
    "girls"
   ]
  },
  {
   "cell_type": "markdown",
   "id": "2b9dae86",
   "metadata": {},
   "source": [
    "## Normality Assumption"
   ]
  },
  {
   "cell_type": "code",
   "execution_count": 93,
   "id": "8499045a",
   "metadata": {},
   "outputs": [
    {
     "data": {
      "text/plain": [
       "Power_divergenceResult(statistic=0.3539889389411712, pvalue=0.9999999990750644)"
      ]
     },
     "execution_count": 93,
     "metadata": {},
     "output_type": "execute_result"
    }
   ],
   "source": [
    "scist.chisquare(boys)"
   ]
  },
  {
   "cell_type": "code",
   "execution_count": 94,
   "id": "c2191455",
   "metadata": {},
   "outputs": [
    {
     "data": {
      "text/plain": [
       "Power_divergenceResult(statistic=0.9874018764873764, pvalue=0.9999990777123358)"
      ]
     },
     "execution_count": 94,
     "metadata": {},
     "output_type": "execute_result"
    }
   ],
   "source": [
    "scist.chisquare(girls)"
   ]
  },
  {
   "cell_type": "markdown",
   "id": "bf98f66c",
   "metadata": {},
   "source": [
    "## Fisher's t-test"
   ]
  },
  {
   "cell_type": "code",
   "execution_count": 90,
   "id": "8502814b",
   "metadata": {
    "scrolled": true
   },
   "outputs": [
    {
     "data": {
      "text/plain": [
       "Ttest_indResult(statistic=0.7480541531363771, pvalue=0.4606648219162376)"
      ]
     },
     "execution_count": 90,
     "metadata": {},
     "output_type": "execute_result"
    }
   ],
   "source": [
    "scist.ttest_ind(boys,girls,equal_var=True,alternative='two-sided')"
   ]
  },
  {
   "cell_type": "markdown",
   "id": "31cd7f8e",
   "metadata": {},
   "source": [
    "## Mann Whitney U-test"
   ]
  },
  {
   "cell_type": "code",
   "execution_count": 76,
   "id": "020664ae",
   "metadata": {},
   "outputs": [
    {
     "data": {
      "text/plain": [
       "MannwhitneyuResult(statistic=129.0, pvalue=0.5067730974898798)"
      ]
     },
     "execution_count": 76,
     "metadata": {},
     "output_type": "execute_result"
    }
   ],
   "source": [
    "scist.mannwhitneyu(boys,girls,alternative='two-sided')"
   ]
  },
  {
   "cell_type": "markdown",
   "id": "71d8beb0",
   "metadata": {},
   "source": [
    "## F-test"
   ]
  },
  {
   "cell_type": "code",
   "execution_count": 107,
   "id": "ab762319",
   "metadata": {},
   "outputs": [
    {
     "data": {
      "text/plain": [
       "0.36645529670585075"
      ]
     },
     "execution_count": 107,
     "metadata": {},
     "output_type": "execute_result"
    }
   ],
   "source": [
    "import statistics as st\n",
    "F_val = st.variance(boys)/st.variance(girls)\n",
    "F_val"
   ]
  },
  {
   "cell_type": "code",
   "execution_count": 108,
   "id": "56f8cdce",
   "metadata": {
    "scrolled": true
   },
   "outputs": [
    {
     "data": {
      "text/plain": [
       "0.03523594325628493"
      ]
     },
     "execution_count": 108,
     "metadata": {},
     "output_type": "execute_result"
    }
   ],
   "source": [
    "scist.f.cdf(F_val,14,14)"
   ]
  },
  {
   "cell_type": "code",
   "execution_count": 99,
   "id": "32a5673a",
   "metadata": {},
   "outputs": [
    {
     "data": {
      "text/plain": [
       "0.1889710952380953"
      ]
     },
     "execution_count": 99,
     "metadata": {},
     "output_type": "execute_result"
    }
   ],
   "source": [
    "st.variance(boys)"
   ]
  },
  {
   "cell_type": "code",
   "execution_count": 104,
   "id": "17585f74",
   "metadata": {},
   "outputs": [
    {
     "data": {
      "text/plain": [
       "0.515672980952381"
      ]
     },
     "execution_count": 104,
     "metadata": {},
     "output_type": "execute_result"
    }
   ],
   "source": [
    "st.variance(girls)"
   ]
  },
  {
   "cell_type": "markdown",
   "id": "05086b1c",
   "metadata": {},
   "source": [
    "#### Here F_val > f.cdf and F_val < 0 , which implies that Boys are more consistent than Girls."
   ]
  },
  {
   "cell_type": "markdown",
   "id": "6608acf5",
   "metadata": {},
   "source": [
    "## Ansari-Bradly Test"
   ]
  },
  {
   "cell_type": "code",
   "execution_count": 102,
   "id": "728caae2",
   "metadata": {},
   "outputs": [
    {
     "data": {
      "text/plain": [
       "AnsariResult(statistic=124.0, pvalue=0.73926590610719)"
      ]
     },
     "execution_count": 102,
     "metadata": {},
     "output_type": "execute_result"
    }
   ],
   "source": [
    "scist.ansari(boys,girls)"
   ]
  },
  {
   "cell_type": "code",
   "execution_count": null,
   "id": "20a42fc4",
   "metadata": {},
   "outputs": [],
   "source": []
  },
  {
   "cell_type": "code",
   "execution_count": null,
   "id": "bec693a6",
   "metadata": {},
   "outputs": [],
   "source": []
  },
  {
   "cell_type": "code",
   "execution_count": null,
   "id": "2079c2a4",
   "metadata": {},
   "outputs": [],
   "source": []
  }
 ],
 "metadata": {
  "kernelspec": {
   "display_name": "Python 3",
   "language": "python",
   "name": "python3"
  },
  "language_info": {
   "codemirror_mode": {
    "name": "ipython",
    "version": 3
   },
   "file_extension": ".py",
   "mimetype": "text/x-python",
   "name": "python",
   "nbconvert_exporter": "python",
   "pygments_lexer": "ipython3",
   "version": "3.8.8"
  }
 },
 "nbformat": 4,
 "nbformat_minor": 5
}
